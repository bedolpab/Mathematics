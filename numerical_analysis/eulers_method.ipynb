{
 "cells": [
  {
   "cell_type": "markdown",
   "id": "f23a79b2-0cb2-4a72-85d4-50e7f24012d7",
   "metadata": {},
   "source": [
    "### MATH 350 Numerical Analysis Homework"
   ]
  },
  {
   "cell_type": "code",
   "execution_count": 635,
   "id": "27cb80cf-3d12-4c6f-8bfc-32ca77968aca",
   "metadata": {},
   "outputs": [],
   "source": [
    "import os\n",
    "import time\n",
    "import subprocess\n",
    "import pandas as pd\n",
    "import numpy as np\n",
    "import matplotlib.pyplot as plt\n",
    "\n",
    "from typing import List, Union\n",
    "from collections.abc import Callable\n",
    "from decimal import Decimal, getcontext\n",
    "from reportlab.lib.pagesizes import letter\n",
    "from reportlab.pdfgen import canvas"
   ]
  },
  {
   "cell_type": "code",
   "execution_count": 636,
   "id": "a4bb9c9c-cc9c-40e9-a950-71efc1b1712c",
   "metadata": {},
   "outputs": [],
   "source": [
    "pd.set_option('display.float_format', '{:.4f}'.format)"
   ]
  },
  {
   "cell_type": "markdown",
   "id": "abc762c3-2cd2-423c-a94b-06f1bb216691",
   "metadata": {},
   "source": [
    "#### Brief Background"
   ]
  },
  {
   "cell_type": "markdown",
   "id": "9387c51d-4eeb-4eea-9c78-340b3c376c74",
   "metadata": {},
   "source": [
    "We denote $Y(x)$ as the true solution to the Initial Value Problem (IVP). The initial value is $Y_0$"
   ]
  },
  {
   "cell_type": "markdown",
   "id": "680c932c-ac01-46ea-8aa6-dbe13f707130",
   "metadata": {},
   "source": [
    "\\begin{cases} \n",
    "  Y'(x) = f(x, Y(x)), & \\quad x_0 \\leq x \\leq b, \\\\\n",
    "  Y(x_0) = Y_0 &\n",
    "\\end{cases}\n"
   ]
  },
  {
   "cell_type": "markdown",
   "id": "442d3faf-6512-415d-ab1c-b59f4a805b62",
   "metadata": {},
   "source": [
    "\\begin{align*}\n",
    "x_n &= x_0 + nh, \\quad n = 0, 1, \\dots, N\n",
    "\\end{align*}\n",
    "\n",
    "\\begin{align*}\n",
    "y(x_n) = y_h(x_n) = y_n \\quad n = 0, 1, \\dots, N\n",
    "\\end{align*}\n"
   ]
  },
  {
   "cell_type": "markdown",
   "id": "806d2b84-51a0-4033-865c-2ee41a18444f",
   "metadata": {},
   "source": [
    "#### Presented Problem\n",
    "\n",
    "$$Y(x) = \\tan^{-1}(x)$$ $$Y(0) = 0$$"
   ]
  },
  {
   "cell_type": "markdown",
   "id": "80edb715-e8bd-452a-ba50-092a67a8060b",
   "metadata": {},
   "source": [
    "#### Previous methods used"
   ]
  },
  {
   "cell_type": "markdown",
   "id": "779542a6-8a34-4f31-bbd7-f55008193c35",
   "metadata": {},
   "source": [
    "```python\n",
    "# Problem 8.2-1a\n",
    "def y(x: Union[int, float]) -> Union[np.float64, np.ndarray]:\n",
    "    return np.arctan(x)\n",
    "    \n",
    "def y_p(x: Union[int, float]) -> Union[np.float64, np.ndarray]:\n",
    "    return np.pow(np.cos(y(x)), 2)\n",
    "    \n",
    "# Problem 8.2-1b\n",
    "def y(x: Union[int, float]) -> Union[np.float64, np.ndarray]:\n",
    "    return np.divide(x, (1+np.pow(x, 2)))\n",
    "\n",
    "def y_p(x: Union[int, float]) -> Union[np.float64, np.ndarray]:\n",
    "    return np.divide(1, (1+np.pow(x, 2))) - 2*(np.pow(y(x), 2))\n",
    "```"
   ]
  },
  {
   "cell_type": "markdown",
   "id": "612c6f7e-8c4d-4aab-85e0-37ffa73ced4d",
   "metadata": {},
   "source": [
    "#### Actual Playground"
   ]
  },
  {
   "cell_type": "code",
   "execution_count": 637,
   "id": "3e96f372-23d6-4466-b554-ce89ece896e0",
   "metadata": {},
   "outputs": [],
   "source": [
    "def y_exact(x: Union[int, float]) -> Union[np.float64, np.ndarray]:\n",
    "    return np.exp(-1 * x)"
   ]
  },
  {
   "cell_type": "code",
   "execution_count": 638,
   "id": "d32fe256-4b9f-4530-9136-1a444e8d7043",
   "metadata": {},
   "outputs": [],
   "source": [
    "def y_prime(x: Union[int, float]) -> Union[np.float64, np.ndarray]:\n",
    "    return -1 * y(x)"
   ]
  },
  {
   "cell_type": "code",
   "execution_count": 639,
   "id": "16a3107c-171e-4c60-b8bd-b11da4d0de31",
   "metadata": {},
   "outputs": [],
   "source": [
    "def eulers_method(l:int, u:int, h: Union[float, int], x0: Union[int, float], y0: Union[int, float],\n",
    "                  y: Callable[[int, float], [np.float64, np.ndarray]],\n",
    "                  yp: Callable[[int, float], [np.float64, np.ndarray]]\n",
    "                 ):\n",
    "    y_values = [y0]\n",
    "    x_values = np.linspace(l, u, int((u-l)/h) + 1)\n",
    "\n",
    "    for i, x_n in enumerate(x_values):\n",
    "        y_n = y_values[-1]\n",
    "\n",
    "        y_next = y_n + (h * yp(x_n))\n",
    "\n",
    "        y_values.append(y_next)\n",
    "        #print(f\"Step {i}: x={x_n:.4f}, y_{i}={y_n:.4f} -> y_{i+1}={y_next:.4f}\")\n",
    "        #print(\"-\" * 50)\n",
    "        \n",
    "    return x_values ,y_values[1:]"
   ]
  },
  {
   "cell_type": "code",
   "execution_count": 640,
   "id": "07a0cf87-fc8b-4c23-9226-631d8d4915b7",
   "metadata": {},
   "outputs": [],
   "source": [
    "def bound(b:int, h:int) -> float:\n",
    "    return np.divide(h, 2) * (np.exp(b) - 1)"
   ]
  },
  {
   "cell_type": "code",
   "execution_count": 641,
   "id": "c7cad40e-0ce7-4edb-9b1e-591fab8a125d",
   "metadata": {},
   "outputs": [],
   "source": [
    "initial_x = 0\n",
    "initial_y = 1\n",
    "lower_bound = 0\n",
    "upper_bound = [1, 2, 3, 4, 5]\n",
    "h_values = [0.2, 0.1, 0.05]"
   ]
  },
  {
   "cell_type": "code",
   "execution_count": 642,
   "id": "a3a1601a-c6e1-4521-8d60-d69525418d61",
   "metadata": {},
   "outputs": [],
   "source": [
    "x_outputs, y_outputs = eulers_method(l=lower_bound, u=upper_bound[1], h=h_values[1],\n",
    "                                      x0=initial_x, y0=initial_y,\n",
    "                                      y=y_exact, yp=y_prime)"
   ]
  },
  {
   "cell_type": "code",
   "execution_count": 643,
   "id": "e58c92e4-02fe-4cf1-b41e-1f2540e4cbb8",
   "metadata": {
    "scrolled": true
   },
   "outputs": [],
   "source": [
    "h_values = np.full(len(x_outputs), h_values[1])\n",
    "true_values = [y(x) for x in x_outputs]\n",
    "bound_values = np.full(len(x_outputs), bound(upper_bound[1], h_values[1]))\n",
    "errors = [(true_values[i] - y) for i, y in enumerate(y_outputs)]\n",
    "errors_bool = [errors[i] < bound for i, bound in enumerate(bound_values)]"
   ]
  },
  {
   "cell_type": "code",
   "execution_count": 644,
   "id": "02ba34d5-e88b-4263-a4d9-310376391797",
   "metadata": {},
   "outputs": [],
   "source": [
    "titles = [\n",
    "    r\"$h_{n}$\",\n",
    "    r\"$x_{n}$\",\n",
    "    r\"$y_{h}$\",\n",
    "    r\"$e^{-x_n}$\",\n",
    "    r\"$\\frac{h}{2}(e^5-1)$\", \n",
    "    r\"$e^{-x_n} - y_h(x_n)$\",\n",
    "    r\"$e^{-x_n} - y_h(x_n) \\leq \\frac{h}{2}(e^5 - 1)$\",\n",
    "]"
   ]
  },
  {
   "cell_type": "code",
   "execution_count": 645,
   "id": "f8a9806f-a3a6-47da-9731-ee15e7495a15",
   "metadata": {},
   "outputs": [],
   "source": [
    "data = pd.DataFrame([\n",
    "    h_values,\n",
    "    x_outputs,\n",
    "    y_outputs,\n",
    "    true_values,\n",
    "    bound_values,\n",
    "    errors,\n",
    "    errors_bool,\n",
    "]).T\n",
    "data.columns = titles"
   ]
  },
  {
   "cell_type": "code",
   "execution_count": 646,
   "id": "c14d8568-1006-4c6a-824d-a64331094eb5",
   "metadata": {},
   "outputs": [],
   "source": [
    "plt.figure(figsize=(6, 5))\n",
    "plt.plot(data[r\"$x_{n}$\"], data[r\"$y_{h}$\"], label=\"Euler's Method Output\")\n",
    "plt.plot(data[r\"$x_{n}$\"], data[r\"$e^{-x_n}$\"], label=\"Exact Solution\", linestyle='--')\n",
    "plt.title(r'Exact Solution vs Euler\\'s Method Approximation', fontsize=14)\n",
    "plt.xlabel(r'$x_{n}$', fontsize=12)\n",
    "plt.ylabel(r'$y(x_{n})$', fontsize=12)\n",
    "plt.grid(True)\n",
    "plt.legend()\n",
    "plt.close()"
   ]
  },
  {
   "cell_type": "markdown",
   "id": "db9dfad7-7af6-4fa2-9947-0058b631cfc7",
   "metadata": {
    "scrolled": true
   },
   "source": [
    "The code below will generate `MD` tables of the data and the graph to go with it "
   ]
  },
  {
   "cell_type": "markdown",
   "id": "f3e88928-b3b9-4843-856b-d1e1c3706e72",
   "metadata": {},
   "source": [
    "```python\n",
    "save_folder = \"./lab_data/\"\n",
    "os.makedirs(save_folder, exist_ok=True)\n",
    "\n",
    "initial_x = 0\n",
    "initial_y = 1\n",
    "lower_bound = 0\n",
    "upper_bound = [1, 2, 3, 4, 5]\n",
    "h_possibles = [0.2, 0.1, 0.05]\n",
    "\n",
    "for ub in upper_bound:\n",
    "    for hv in h_possibles:\n",
    "        x_outputs, y_outputs = eulers_method(\n",
    "            l=lower_bound, u=ub, h=hv,\n",
    "            x0=initial_x, y0=initial_y,\n",
    "            y=y_exact, yp=y_prime\n",
    "        )\n",
    "        h_values = np.full(len(x_outputs), hv)\n",
    "        true_values = [y(x) for x in x_outputs]\n",
    "        bound_values = np.full(len(x_outputs), bound(ub, hv))\n",
    "        errors = [(true_values[i] - y) for i, y in enumerate(y_outputs)]\n",
    "        errors_bool = [errors[i] < bound for i, bound in enumerate(bound_values)]\n",
    "        titles = [\n",
    "            r\"$h_{n}$\",\n",
    "            r\"$x_{n}$\",\n",
    "            r\"$y_{h}$\",\n",
    "            r\"$e^{-x_n}$\",\n",
    "            r\"$\\frac{h}{2}(e^5-1)$\", \n",
    "            r\"$e^{-x_n} - y_h(x_n)$\",\n",
    "            r\"$e^{-x_n} - y_h(x_n) \\leq \\frac{h}{2}(e^5 - 1)$\",\n",
    "        ]\n",
    "        \n",
    "        data = pd.DataFrame([\n",
    "            h_values,\n",
    "            x_outputs,\n",
    "            y_outputs,\n",
    "            true_values,\n",
    "            bound_values,\n",
    "            errors,\n",
    "            errors_bool,\n",
    "        ]).T\n",
    "        \n",
    "        data.columns = titles\n",
    "        data.index = np.full(len(x_outputs), ub)\n",
    "        data.to_markdown(f\"./lab_data/euler_table_b_{ub}_h_{hv}.md\")        \n",
    "\n",
    "        plot_filename = f\"./lab_data/euler_table_b_{ub}_h_{hv}.png\"\n",
    "        \n",
    "        plt.figure(figsize=(12, 5))\n",
    "        plt.plot(data[r\"$x_{n}$\"], data[r\"$y_{h}$\"], label=\"Euler's Method Output\")\n",
    "        plt.plot(data[r\"$x_{n}$\"], data[r\"$e^{-x_n}$\"], label=\"Exact Solution\", linestyle='--')\n",
    "        plt.title(r'Exact Solution vs Euler\\'s Method Approximation', fontsize=14)\n",
    "        plt.xlabel(r'$x_{n}$', fontsize=12)\n",
    "        plt.ylabel(r'$y(x_{n})$', fontsize=12)\n",
    "        plt.grid(True)\n",
    "        plt.legend()\n",
    "        plt.savefig(plot_filename)  # Save the plot as PNG\n",
    "        plt.close() \n",
    "\n",
    "        time.sleep(4)\n",
    "```"
   ]
  },
  {
   "cell_type": "markdown",
   "id": "708e084e-8671-4420-9a9d-0720d9cfadd5",
   "metadata": {},
   "source": [
    "#### Problem 8.3 - 9"
   ]
  },
  {
   "cell_type": "markdown",
   "id": "6ba6aa14-ea3c-456e-99fe-36707b420e42",
   "metadata": {},
   "source": [
    "Recall that Richardson's extrapolation formula is:\n",
    "$$\n",
    "Y(x) \\approx y_h(x) \\approx 2y_h(x) - y_{2h}(x)\n",
    "$$\n",
    "\n",
    "To find the error, we'll perform:\n",
    "\n",
    "$$\n",
    "\\left[ 2y_h(x) - y_{2h}(x) \\right] - y_h(x_n)\n",
    "$$\n",
    "\n",
    "The conditions are:\n",
    "\n",
    "$$\n",
    "Y^{'}(x) = \\frac{Y(x) + x^2 - 2}{x+1},\\,\\, Y(x) = x^2 + 2x + 2 - 2(x+1)\\log(x+1)\n",
    "$$\n",
    "$$\n",
    "Y(0) = 2\n",
    "$$"
   ]
  },
  {
   "cell_type": "code",
   "execution_count": 647,
   "id": "1b8f91a5-2846-4585-b171-81e146289999",
   "metadata": {},
   "outputs": [],
   "source": [
    "def y_exact(x: Union[int, float]) -> Union[np.float64, np.ndarray]:\n",
    "    return np.pow(x, 2)+(2*x)+2-(2*(x+1)*np.log(x+1))\n",
    "\n",
    "def y_prime(x: Union[int, float]) -> Union[np.float64, np.ndarray]:\n",
    "    return np.divide((y_exact(x)+np.pow(x, 2)-2),(x+1))"
   ]
  },
  {
   "cell_type": "markdown",
   "id": "eab20c0d-20e2-4db0-812a-7c2596c0499e",
   "metadata": {},
   "source": [
    "Therefore, let 2$y_h(x)$ be:"
   ]
  },
  {
   "cell_type": "code",
   "execution_count": 623,
   "id": "58e1eed6-39b0-44fe-8074-266717cc0a05",
   "metadata": {},
   "outputs": [],
   "source": [
    "richard_x_1, richard_y_1 = eulers_method(l=1, u=6, h=0.05,\n",
    "                                          x0=0, y0=2,\n",
    "                                          y=y_exact, yp=y_prime)"
   ]
  },
  {
   "cell_type": "code",
   "execution_count": 624,
   "id": "5929f143-44fc-4d27-81ee-a3304af8deeb",
   "metadata": {},
   "outputs": [],
   "source": [
    "richard_y_1 = np.array([(2*y) for y in richard_y_1])"
   ]
  },
  {
   "cell_type": "markdown",
   "id": "b3cef690-25db-4198-b50b-97d9bc7a56ed",
   "metadata": {},
   "source": [
    "And let $y_{2h}(x)$ be:"
   ]
  },
  {
   "cell_type": "code",
   "execution_count": 625,
   "id": "fd78ea5d-e1a8-4cdf-b576-5f25a9475e4e",
   "metadata": {},
   "outputs": [],
   "source": [
    "richard_x_2, richard_y_2 = eulers_method(l=1, u=6, h=(2*0.05),\n",
    "                                          x0=0, y0=2,\n",
    "                                          y=y_exact, yp=y_prime)"
   ]
  },
  {
   "cell_type": "code",
   "execution_count": 626,
   "id": "b3668a01-a63c-4bd1-9697-330de9bb6be1",
   "metadata": {},
   "outputs": [],
   "source": [
    "richard_y_2 = np.array(richard_y_2)"
   ]
  },
  {
   "cell_type": "code",
   "execution_count": 627,
   "id": "7a987a2e-ad91-4e49-a8a8-a85a03d853f6",
   "metadata": {},
   "outputs": [],
   "source": [
    "richard_x_subtract, richard_y_subtract = eulers_method(l=1, u=6, h=0.05,\n",
    "                                          x0=0, y0=2,\n",
    "                                          y=y_exact, yp=y_prime)"
   ]
  },
  {
   "cell_type": "code",
   "execution_count": 628,
   "id": "c1c4d2e2-c1d7-4452-b418-c36aebc24657",
   "metadata": {},
   "outputs": [],
   "source": [
    "richard_y_subtract = np.array(richard_y_subtract)"
   ]
  },
  {
   "cell_type": "code",
   "execution_count": 629,
   "id": "8f34e6b8-3bf7-48f1-ad57-7b1eceae6698",
   "metadata": {},
   "outputs": [],
   "source": [
    "mask = np.nonzero(np.isin(richard_x_1, richard_x_2))[0]"
   ]
  },
  {
   "cell_type": "code",
   "execution_count": 630,
   "id": "f47d75a7-18ff-400a-832f-3d5f3d6087e0",
   "metadata": {},
   "outputs": [],
   "source": [
    "richard_x_1 = richard_x_1[mask]\n",
    "richard_y_1 = richard_y_1[mask]\n",
    "richard_x_subtract = richard_x_subtract[mask]\n",
    "richard_y_subtract = richard_y_subtract[mask]"
   ]
  },
  {
   "cell_type": "code",
   "execution_count": 631,
   "id": "705ebef5-8f4e-498a-8223-7272ed92391b",
   "metadata": {},
   "outputs": [],
   "source": [
    "richardsons = np.abs(richard_y_2 - richard_y_1)\n",
    "richardsons_extrapolate = np.abs(richard_y_subtract - richard_y_2)"
   ]
  },
  {
   "cell_type": "code",
   "execution_count": 632,
   "id": "5ca22d21-b99b-4139-b6bc-dadd1a294a56",
   "metadata": {},
   "outputs": [],
   "source": [
    "titles = [\n",
    "    r\"$h_{n}$\",\n",
    "    r\"$2h_{n}$\",\n",
    "    r\"$x_{n}$\",\n",
    "    r\"$2y_h(x)$\",\n",
    "    r\"$y_{2h}(x)$\",\n",
    "    r\"$y_h(x)$\",\n",
    "    r\"Richardson's\",\n",
    "    r\"$y_h(x) - y_{2h}(x)$\",\n",
    "]"
   ]
  },
  {
   "cell_type": "code",
   "execution_count": 633,
   "id": "094a273f-6451-4c90-942c-2864c3cdb5a0",
   "metadata": {},
   "outputs": [],
   "source": [
    "data = pd.DataFrame([\n",
    "    np.full(richard_x_1.shape[0], 0.05),\n",
    "    np.full(richard_x_1.shape[0], (2*0.5)),\n",
    "    richard_x_1,\n",
    "    richard_y_1,\n",
    "    richard_y_2,\n",
    "    richard_y_subtract,\n",
    "    richardsons,\n",
    "    richardsons_extrapolate,\n",
    "]).T\n",
    "data.columns = titles"
   ]
  },
  {
   "cell_type": "code",
   "execution_count": 649,
   "id": "0df25c93-a6fd-4bd8-b514-26278b287922",
   "metadata": {},
   "outputs": [],
   "source": [
    "def y_exact(x: Union[int, float]) -> Union[np.float64, np.ndarray]:\n",
    "    return np.sin(x) + np.cos(X)\n",
    "\n",
    "def y_prime(x: Union[int, float], l) -> Union[np.float64, np.ndarray]:\n",
    "    return l * y_exact(x) + (1-l)*np.cos(x) - (1+l)*np.sin(x)"
   ]
  },
  {
   "cell_type": "code",
   "execution_count": null,
   "id": "edae405e-3682-4ece-8e53-aa1bbf942dc2",
   "metadata": {},
   "outputs": [],
   "source": [
    "def eulers_method(l:int, u:int, h: Union[float, int], x0: Union[int, float], y0: Union[int, float],\n",
    "                  y: Callable[[int, float], [np.float64, np.ndarray]],\n",
    "                  yp: Callable[[int, float], [np.float64, np.ndarray]]\n",
    "                 ):\n",
    "    y_values = [y0]\n",
    "    x_values = np.linspace(l, u, int((u-l)/h) + 1)\n",
    "\n",
    "    for i, x_n in enumerate(x_values):\n",
    "        y_n = y_values[-1]\n",
    "\n",
    "        y_next = y_n + (h * yp(x_n))\n",
    "\n",
    "        y_values.append(y_next)\n",
    "        #print(f\"Step {i}: x={x_n:.4f}, y_{i}={y_n:.4f} -> y_{i+1}={y_next:.4f}\")\n",
    "        #print(\"-\" * 50)\n",
    "        \n",
    "    return x_values ,y_values[1:]"
   ]
  }
 ],
 "metadata": {
  "kernelspec": {
   "display_name": "Python 3 (ipykernel)",
   "language": "python",
   "name": "python3"
  },
  "language_info": {
   "codemirror_mode": {
    "name": "ipython",
    "version": 3
   },
   "file_extension": ".py",
   "mimetype": "text/x-python",
   "name": "python",
   "nbconvert_exporter": "python",
   "pygments_lexer": "ipython3",
   "version": "3.13.1"
  }
 },
 "nbformat": 4,
 "nbformat_minor": 5
}
